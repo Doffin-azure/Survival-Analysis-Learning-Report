{
 "cells": [
  {
   "cell_type": "code",
   "execution_count": 2,
   "id": "1d2b2955",
   "metadata": {},
   "outputs": [],
   "source": [
    "from pyspark.sql import SparkSession\n",
    "from pyspark.sql.functions import col, lit, when,to_timestamp\n",
    "from pyspark.sql.types import StructType, StructField, StringType\n",
    "\n"
   ]
  },
  {
   "cell_type": "code",
   "execution_count": 3,
   "id": "b52322a2",
   "metadata": {},
   "outputs": [
    {
     "name": "stderr",
     "output_type": "stream",
     "text": [
      "Setting default log level to \"WARN\".\n",
      "To adjust logging level use sc.setLogLevel(newLevel). For SparkR, use setLogLevel(newLevel).\n",
      "25/04/13 09:33:40 WARN NativeCodeLoader: Unable to load native-hadoop library for your platform... using builtin-java classes where applicable\n",
      "25/04/13 09:33:41 WARN Utils: Service 'SparkUI' could not bind on port 4040. Attempting port 4041.\n",
      "25/04/13 09:33:53 WARN SparkStringUtils: Truncated the string representation of a plan since it was too large. This behavior can be adjusted by setting 'spark.sql.debug.maxToStringFields'.\n"
     ]
    }
   ],
   "source": [
    "spark = SparkSession.builder \\\n",
    "    .appName(\"MACCDCDataAnalysis\") \\\n",
    "    .getOrCreate()\n",
    "\n",
    "base_path = \"Data/security-datasets01-main/maccdc-2012\"\n",
    "folders = [\"00\", \"01\", \"02\", \"03\", \"04\", \"05\"]\n",
    "http_files = [f\"{base_path}/{folder}/http.log.gz\" for folder in folders]\n",
    "dns_files = [f\"{base_path}/{folder}/dns.log.gz\" for folder in folders]\n",
    "\n",
    "http_df = spark.read.option(\"header\", \"true\").json(http_files)\n",
    "dns_df = spark.read.option(\"header\", \"true\").json(dns_files)\n",
    "\n",
    "# Convert the 'timestamp' column to a timestamp type\n",
    "http_df = http_df.withColumn(\"ts\", to_timestamp(col(\"ts\")))\n",
    "dns_df = dns_df.withColumn(\"ts\", to_timestamp(col(\"ts\")))\n",
    "\n",
    "# Name http_log and dns_log\n",
    "http_df.createOrReplaceTempView(\"http_log\")\n",
    "dns_df.createOrReplaceTempView(\"dns_log\")"
   ]
  },
  {
   "cell_type": "code",
   "execution_count": 4,
   "id": "2200aaf3",
   "metadata": {},
   "outputs": [
    {
     "name": "stdout",
     "output_type": "stream",
     "text": [
      "+---------------+---------------+---------+---------------+---------+------+--------------+--------------------+---------------+------+-------+--------------------+----------------+--------------+--------------------+---------------+-----------------+-----------+-----------------+----+-----------+--------------------+------------------+--------------------+--------------------+--------+-------+\n",
      "|           host|      id.orig_h|id.orig_p|      id.resp_h|id.resp_p|method|orig_filenames|          orig_fuids|orig_mime_types|origin|proxied|            referrer|request_body_len|resp_filenames|          resp_fuids|resp_mime_types|response_body_len|status_code|       status_msg|tags|trans_depth|                  ts|               uid|                 uri|          user_agent|username|version|\n",
      "+---------------+---------------+---------+---------------+---------+------+--------------+--------------------+---------------+------+-------+--------------------+----------------+--------------+--------------------+---------------+-----------------+-----------+-----------------+----+-----------+--------------------+------------------+--------------------+--------------------+--------+-------+\n",
      "| 192.168.202.78| 192.168.204.70|    46197| 192.168.202.78|       80|  POST|          NULL|[FPp8eT1dDgDcIzdRT7]|   [text/plain]|  NULL|   NULL|http://192.168.20...|            4490|          NULL|                NULL|           NULL|                0|        302|            Found|  []|          1|2012-03-16 15:12:...|CP89p94IKoDnDpK2hh|           /doku.php|Mozilla/5.0 (X11;...|    NULL|    1.1|\n",
      "|192.168.205.253|192.168.202.107|     1191|192.168.205.253|       80|   GET|          NULL|                NULL|           NULL|  NULL|   NULL|                NULL|               0|          NULL| [FLeXV6ZoEWi12BLol]|    [text/html]|               56|        301|Moved Permanently|  []|          1|2012-03-16 15:12:...| CHsuac0PhOftIloHk|/sdk/vimService?wsdl|                NULL|    NULL|    1.1|\n",
      "|   127.0.0.1:80|192.168.202.102|     1112| 192.168.22.152|       80|   GET|          NULL|                NULL|           NULL|  NULL|   NULL|                NULL|               0|          NULL|[FVOd8i2QjtprIkVwX1]|    [text/html]|               44|        200|               OK|  []|          1|2012-03-16 15:12:...|C7t8jB1Obv6uQsX00h|         /index.html|                NULL|    NULL|    1.1|\n",
      "| 192.168.202.78| 192.168.204.70|    46198| 192.168.202.78|       80|   GET|          NULL|                NULL|           NULL|  NULL|   NULL|http://192.168.20...|               0|          NULL|[FImEgi2hnmej8PAoui]|    [text/html]|            22249|        200|               OK|  []|          1|2012-03-16 15:12:...|CkG8K63Zw6fef84ge1| /doku.php?id=start&|Mozilla/5.0 (X11;...|    NULL|    1.1|\n",
      "| 192.168.202.78| 192.168.204.70|    46200| 192.168.202.78|       80|   GET|          NULL|                NULL|           NULL|  NULL|   NULL|http://192.168.20...|               0|          NULL|                NULL|           NULL|                0|        304|     Not Modified|  []|          1|2012-03-16 15:12:...|C4jTEw1lzhAGDPjUKj|/lib/tpl/default/...|Mozilla/5.0 (X11;...|    NULL|    1.1|\n",
      "+---------------+---------------+---------+---------------+---------+------+--------------+--------------------+---------------+------+-------+--------------------+----------------+--------------+--------------------+---------------+-----------------+-----------+-----------------+----+-----------+--------------------+------------------+--------------------+--------------------+--------+-------+\n",
      "only showing top 5 rows\n",
      "\n"
     ]
    }
   ],
   "source": [
    "http_df.show(5)"
   ]
  },
  {
   "cell_type": "code",
   "execution_count": 5,
   "id": "1735a618",
   "metadata": {},
   "outputs": [
    {
     "name": "stdout",
     "output_type": "stream",
     "text": [
      "+-----+-----+----+-----+----+---+-------+--------------+---------+-------------+---------+-----+------+-----------+-----+----------+-------------------+-----+----------+--------+----+--------+--------------------+------------------+\n",
      "|   AA|   RA|  RD|   TC|TTLs|  Z|answers|     id.orig_h|id.orig_p|    id.resp_h|id.resp_p|proto|qclass|qclass_name|qtype|qtype_name|              query|rcode|rcode_name|rejected| rtt|trans_id|                  ts|               uid|\n",
      "+-----+-----+----+-----+----+---+-------+--------------+---------+-------------+---------+-----+------+-----------+-----+----------+-------------------+-----+----------+--------+----+--------+--------------------+------------------+\n",
      "|false|false|true|false|NULL|  0|   NULL|192.168.204.70|    38795|192.168.207.4|       53|  udp|     1| C_INTERNET|   28|      AAAA|creativecommons.org|    3|  NXDOMAIN|   false|NULL|   50106|2012-03-16 15:12:...| C1odva1GOl62Mubql|\n",
      "|false|false|true|false|NULL|  0|   NULL|192.168.204.70|    53918|192.168.207.4|       53|  udp|     1| C_INTERNET|   28|      AAAA|   www.dokuwiki.org|    3|  NXDOMAIN|   false|NULL|   52251|2012-03-16 15:12:...| CQLw22eZ8JIDpJcik|\n",
      "|false|false|true|false|NULL|  0|   NULL|192.168.204.70|    45058|192.168.207.4|       53|  udp|     1| C_INTERNET|   28|      AAAA|creativecommons.org|    3|  NXDOMAIN|   false|NULL|   61533|2012-03-16 15:12:...|CKaLaf1peiUU3kmTV8|\n",
      "|false|false|true|false|NULL|  0|   NULL|192.168.204.70|    56979|192.168.207.4|       53|  udp|     1| C_INTERNET|   28|      AAAA|        www.php.net|    3|  NXDOMAIN|   false|NULL|   37509|2012-03-16 15:12:...|CtEYyv1YQSocDA5oY6|\n",
      "|false|false|true|false|NULL|  0|   NULL|192.168.204.70|    35954|192.168.207.4|       53|  udp|     1| C_INTERNET|   28|      AAAA|   www.dokuwiki.org|    3|  NXDOMAIN|   false|NULL|   17572|2012-03-16 15:12:...|CwrlVC14uolzZt7dPc|\n",
      "+-----+-----+----+-----+----+---+-------+--------------+---------+-------------+---------+-----+------+-----------+-----+----------+-------------------+-----+----------+--------+----+--------+--------------------+------------------+\n",
      "only showing top 5 rows\n",
      "\n"
     ]
    }
   ],
   "source": [
    "dns_df.show(5)"
   ]
  },
  {
   "cell_type": "code",
   "execution_count": 6,
   "id": "fa3ddbba",
   "metadata": {},
   "outputs": [],
   "source": [
    "result_sql = spark.sql(\"\"\"\n",
    "SELECT uri, COUNT(*) AS access_count\n",
    "FROM http_log\n",
    "WHERE status_code = '200' AND method = 'GET'\n",
    "GROUP BY uri\n",
    "ORDER BY access_count DESC\n",
    "\"\"\")\n",
    "result_sql.createTempView(\"http_access_count_table\")\n"
   ]
  },
  {
   "cell_type": "code",
   "execution_count": 7,
   "id": "0428a02f",
   "metadata": {},
   "outputs": [
    {
     "name": "stderr",
     "output_type": "stream",
     "text": [
      "[Stage 4:=============================>                             (1 + 1) / 2]\r"
     ]
    },
    {
     "name": "stdout",
     "output_type": "stream",
     "text": [
      "+--------------------+------------+\n",
      "|                 uri|access_count|\n",
      "+--------------------+------------+\n",
      "|                   /|        9475|\n",
      "|/admin/config.php...|         556|\n",
      "|  /main.php?logout=1|         194|\n",
      "|/top.php?stuff=15...|         191|\n",
      "|            /top.php|         179|\n",
      "|/main.php?stuff=1...|         172|\n",
      "|  /get_latest_id.php|         159|\n",
      "|/admin/config.php...|         138|\n",
      "|    /cacti/index.php|         129|\n",
      "|/en-US/api/messag...|         118|\n",
      "|          /index.php|         105|\n",
      "|/phpmyadmin/index...|          77|\n",
      "|             /cacti/|          68|\n",
      "|        /phpmyadmin/|          56|\n",
      "|        /favicon.ico|          55|\n",
      "|              /admin|          42|\n",
      "|  /scripts/index.php|          40|\n",
      "|             /icons/|          39|\n",
      "|/en-US/api/search...|          39|\n",
      "|  /cgi-bin/index.php|          37|\n",
      "+--------------------+------------+\n",
      "only showing top 20 rows\n",
      "\n"
     ]
    },
    {
     "name": "stderr",
     "output_type": "stream",
     "text": [
      "                                                                                \r"
     ]
    }
   ],
   "source": [
    "result_sql.show()"
   ]
  },
  {
   "cell_type": "code",
   "execution_count": 8,
   "id": "71ceaeea",
   "metadata": {},
   "outputs": [
    {
     "name": "stderr",
     "output_type": "stream",
     "text": [
      "                                                                                \r"
     ]
    },
    {
     "name": "stdout",
     "output_type": "stream",
     "text": [
      "+----+---------+---------+---------+---------+------+--------------+----------+---------------+------+-------+--------+----------------+--------------+----------+---------------+-----------------+-----------+----------+----+-----------+---+---+---+----------+--------+-------+---+---+---+---+----+---+-------+---------+---------+---------+---------+-----+------+-----------+-----+----------+-----+-----+----------+--------+---+--------+---+---+\n",
      "|host|id.orig_h|id.orig_p|id.resp_h|id.resp_p|method|orig_filenames|orig_fuids|orig_mime_types|origin|proxied|referrer|request_body_len|resp_filenames|resp_fuids|resp_mime_types|response_body_len|status_code|status_msg|tags|trans_depth| ts|uid|uri|user_agent|username|version| AA| RA| RD| TC|TTLs|  Z|answers|id.orig_h|id.orig_p|id.resp_h|id.resp_p|proto|qclass|qclass_name|qtype|qtype_name|query|rcode|rcode_name|rejected|rtt|trans_id| ts|uid|\n",
      "+----+---------+---------+---------+---------+------+--------------+----------+---------------+------+-------+--------+----------------+--------------+----------+---------------+-----------------+-----------+----------+----+-----------+---+---+---+----------+--------+-------+---+---+---+---+----+---+-------+---------+---------+---------+---------+-----+------+-----------+-----+----------+-----+-----+----------+--------+---+--------+---+---+\n",
      "+----+---------+---------+---------+---------+------+--------------+----------+---------------+------+-------+--------+----------------+--------------+----------+---------------+-----------------+-----------+----------+----+-----------+---+---+---+----------+--------+-------+---+---+---+---+----+---+-------+---------+---------+---------+---------+-----+------+-----------+-----+----------+-----+-----+----------+--------+---+--------+---+---+\n",
      "\n"
     ]
    }
   ],
   "source": [
    "result_join = spark.sql(\"\"\"\n",
    "SELECT \n",
    "  *\n",
    "FROM http_log AS h\n",
    "JOIN dns_log AS d\n",
    "  ON h.uid = d.uid\n",
    "\"\"\")\n",
    "result_join.show()\n"
   ]
  },
  {
   "cell_type": "code",
   "execution_count": 10,
   "id": "f0299086",
   "metadata": {},
   "outputs": [
    {
     "name": "stderr",
     "output_type": "stream",
     "text": [
      "[Stage 11:=============================>                            (1 + 1) / 2]\r"
     ]
    },
    {
     "name": "stdout",
     "output_type": "stream",
     "text": [
      "+---+--------------+\n",
      "|uri|tcp_percentage|\n",
      "+---+--------------+\n",
      "+---+--------------+\n",
      "\n"
     ]
    }
   ],
   "source": [
    "tcp_percentage = spark.sql(\"\"\"\n",
    "SELECT\n",
    "    uri, tcp_percentage\n",
    "FROM (\n",
    "    SELECT\n",
    "        uri,\n",
    "        COUNT(CASE WHEN dns_log.proto = 'TCP' THEN 1 END) * 100.0 / COUNT(*) AS tcp_percentage\n",
    "    FROM http_log\n",
    "    JOIN dns_log ON http_log.uid = dns_log.uid\n",
    "    WHERE http_log.status_code = '200' AND http_log.method = 'GET'\n",
    "    GROUP BY uri\n",
    ") AS tcp_counts\n",
    "WHERE tcp_percentage > 50\n",
    "\"\"\")\n",
    "\n",
    "tcp_percentage.createTempView(\"tcp_percentage_table\")\n",
    "tcp_percentage.show()"
   ]
  }
 ],
 "metadata": {
  "kernelspec": {
   "display_name": "Python 3",
   "language": "python",
   "name": "python3"
  },
  "language_info": {
   "codemirror_mode": {
    "name": "ipython",
    "version": 3
   },
   "file_extension": ".py",
   "mimetype": "text/x-python",
   "name": "python",
   "nbconvert_exporter": "python",
   "pygments_lexer": "ipython3",
   "version": "3.10.12"
  }
 },
 "nbformat": 4,
 "nbformat_minor": 5
}
